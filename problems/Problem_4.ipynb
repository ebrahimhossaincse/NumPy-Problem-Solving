{
 "cells": [
  {
   "metadata": {},
   "cell_type": "markdown",
   "source": "### Test element-wise for complex number, real number of a given array. Also test whether a given number is a scalar type or not",
   "id": "b934e5a3b946c8ae"
  },
  {
   "cell_type": "code",
   "id": "initial_id",
   "metadata": {
    "collapsed": true,
    "ExecuteTime": {
     "end_time": "2024-10-17T05:01:35.373237Z",
     "start_time": "2024-10-17T05:01:35.367092Z"
    }
   },
   "source": [
    "# Importing the NumPy library with an alias 'np'\n",
    "import numpy as np\n",
    "\n",
    "# Creating a NumPy array 'a' containing various types of numbers (complex, real, scalar)\n",
    "a = np.array([1+1j, 1+0j, 4.5, 3, 2, 2j])\n",
    "\n",
    "# Printing the original array 'a'\n",
    "print(\"Original array\", a)\n",
    "\n",
    "# Checking the given array 'a' element-wise for complex numbers and printing the result\n",
    "print(\"Checking for complex number: \", np.iscomplex(a))\n",
    "\n",
    "# Checking the given array 'a' element-wise for real numbers and printing the result\n",
    "print(\"Checking for real number: \", np.isreal(a))\n",
    "\n",
    "# Checking if a value is a scalar or not (in this case, checking if 3.1 is a scalar)\n",
    "print(\"Checking for scalar type: \", np.isscalar(3.1))\n",
    "\n",
    "# Checking if a list ([3.1]) is a scalar or not (in this case, it's not a scalar)\n",
    "print(np.isscalar([3.1])) \n"
   ],
   "outputs": [
    {
     "name": "stdout",
     "output_type": "stream",
     "text": [
      "Original array [1. +1.j 1. +0.j 4.5+0.j 3. +0.j 2. +0.j 0. +2.j]\n",
      "Checking for complex number:  [ True False False False False  True]\n",
      "Checking for real number:  [False  True  True  True  True False]\n",
      "Checking for scalar type:  True\n",
      "False\n"
     ]
    }
   ],
   "execution_count": 2
  },
  {
   "metadata": {},
   "cell_type": "markdown",
   "source": [
    "## Explanation:\n",
    "\n",
    "In the above exercise -\n",
    "np.array([1+1j, 1+0j, 4.5, 3, 2, 2j]) creates a NumPy array 'a' with a mix of complex and real numbers.\n",
    "\n",
    "print(\"Checking for complex number: \", np.iscomplex(a)) : Here np.iscomplex() function tests element-wise if the values in the array 'a' are complex numbers. The function returns a boolean array of the same shape as 'a', with True for complex values and False for other values\n",
    "\n",
    "print(\"Checking for real number: \", np.isreal(a)): Here np.isreal() function tests element-wise if the values in the array 'a' are real numbers. The function returns a boolean array of the same shape as 'a', with True for real values and False for complex values\n",
    "\n",
    "print(\"Checking for scalar type: \", np.isscalar(3.1)): Here np.isscalar() function checks if the given object (3.1) is a scalar. In this case, 3.1 is a scalar (a single number), so the function returns True.\n",
    "\n",
    "print(np.isscalar([3.1])): Here np.isscalar() function checks if the given object ([3.1]) is a scalar. In this case, [3.1] is a list containing a single number, but it is not a scalar, so the function returns False."
   ],
   "id": "3288b14b901a2fc7"
  }
 ],
 "metadata": {
  "kernelspec": {
   "display_name": "Python 3",
   "language": "python",
   "name": "python3"
  },
  "language_info": {
   "codemirror_mode": {
    "name": "ipython",
    "version": 2
   },
   "file_extension": ".py",
   "mimetype": "text/x-python",
   "name": "python",
   "nbconvert_exporter": "python",
   "pygments_lexer": "ipython2",
   "version": "2.7.6"
  }
 },
 "nbformat": 4,
 "nbformat_minor": 5
}
