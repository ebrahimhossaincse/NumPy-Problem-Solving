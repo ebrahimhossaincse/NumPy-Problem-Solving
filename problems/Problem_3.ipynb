{
 "cells": [
  {
   "metadata": {},
   "cell_type": "markdown",
   "source": "### Test whether any of the elements of a given array is non-zero",
   "id": "530fc0b8e24507fd"
  },
  {
   "cell_type": "code",
   "id": "initial_id",
   "metadata": {
    "collapsed": true,
    "ExecuteTime": {
     "end_time": "2024-10-17T03:40:46.245594Z",
     "start_time": "2024-10-17T03:40:46.116147Z"
    }
   },
   "source": [
    "# Importing the NumPy library with an alias 'np'\n",
    "import numpy as np\n",
    "\n",
    "# Creating a NumPy array 'x' containing elements 1, 0, 0, and 0\n",
    "x = np.array([1, 0, 0, 0])\n",
    "\n",
    "# Printing the original array 'x'\n",
    "print(\"Original array: \", x)\n",
    "\n",
    "# Checking if any element in the array 'x' is non-zero and printing the result\n",
    "print(\"Test whether any of the elements of a given array is non-zero: \", np.any(x))\n",
    "\n",
    "# Reassigning array 'x' to a new array containing all elements as zero\n",
    "x = np.array([0, 0, 0, 0])\n",
    "\n",
    "# Printing the new array 'x'\n",
    "print(\"Original array:\", x)\n",
    "\n",
    "# Checking if any element in the updated array 'x' is non-zero and printing the result\n",
    "print(\"Test whether any of the elements of a given array is non-zero: \", np.any(x))"
   ],
   "outputs": [
    {
     "name": "stdout",
     "output_type": "stream",
     "text": [
      "Original array:  [1 0 0 0]\n",
      "Test whether any of the elements of a given array is non-zero:  True\n",
      "Original array: [0 0 0 0]\n",
      "Test whether any of the elements of a given array is non-zero:  False\n"
     ]
    }
   ],
   "execution_count": 1
  },
  {
   "metadata": {},
   "cell_type": "markdown",
   "source": [
    "### Explanation:\n",
    "\n",
    "In the above code –\n",
    "x = np.array([1, 0, 0, 0]): This line creates a NumPy array 'x' with the elements 1, 0, 0, and 0.\n",
    "print(np.any(x)): This line uses the np.any() function to test if any elements in the array 'x' are non-zero (i.e., not equal to zero). In this case, the first element is non-zero, so the function returns True.\n",
    "\n",
    "x = np.array([0, 0, 0, 0]): This line creates a new NumPy array 'x' with all elements equal to 0.\n",
    "print(np.any(x)): This line uses the np.any() function again to test if any elements in the new array 'x' are non-zero. In this case, all elements are zero, so the function returns False."
   ],
   "id": "4d73bddc6bbb5e06"
  }
 ],
 "metadata": {
  "kernelspec": {
   "display_name": "Python 3",
   "language": "python",
   "name": "python3"
  },
  "language_info": {
   "codemirror_mode": {
    "name": "ipython",
    "version": 2
   },
   "file_extension": ".py",
   "mimetype": "text/x-python",
   "name": "python",
   "nbconvert_exporter": "python",
   "pygments_lexer": "ipython2",
   "version": "2.7.6"
  }
 },
 "nbformat": 4,
 "nbformat_minor": 5
}
